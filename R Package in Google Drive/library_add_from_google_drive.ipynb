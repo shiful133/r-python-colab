{
  "nbformat": 4,
  "nbformat_minor": 0,
  "metadata": {
    "colab": {
      "provenance": [],
      "authorship_tag": "ABX9TyOe2VRY+9qCsKSwOjgH/rOY",
      "include_colab_link": true
    },
    "kernelspec": {
      "name": "python3",
      "display_name": "Python 3"
    },
    "language_info": {
      "name": "python"
    }
  },
  "cells": [
    {
      "cell_type": "markdown",
      "metadata": {
        "id": "view-in-github",
        "colab_type": "text"
      },
      "source": [
        "<a href=\"https://colab.research.google.com/github/shiful133/r-colab/blob/main/library_add_from_google_drive/library_add_from_google_drive.ipynb\" target=\"_parent\"><img src=\"https://colab.research.google.com/assets/colab-badge.svg\" alt=\"Open In Colab\"/></a>"
      ]
    },
    {
      "cell_type": "code",
      "execution_count": null,
      "metadata": {
        "id": "40W36IWmteI7"
      },
      "outputs": [],
      "source": [
        "!pip uninstall rpy2 -y\n",
        "!pip install rpy2==3.5.1\n",
        "%load_ext rpy2.ipython"
      ]
    },
    {
      "cell_type": "markdown",
      "source": [
        "Library add to google drive"
      ],
      "metadata": {
        "id": "YMRy9XKUwP0H"
      }
    },
    {
      "cell_type": "code",
      "source": [
        "from google.colab import drive\n",
        "drive.mount('/content/drive')"
      ],
      "metadata": {
        "id": "R4PwkYJotxfs"
      },
      "execution_count": null,
      "outputs": []
    },
    {
      "cell_type": "code",
      "source": [
        "%%R\n",
        "install.packages(\"tidymodels\",lib='drive/MyDrive/R/R_Packages/')"
      ],
      "metadata": {
        "id": "MFIspOawwO9Z"
      },
      "execution_count": null,
      "outputs": []
    },
    {
      "cell_type": "code",
      "source": [
        "%%R\n",
        ".libPaths('drive/MyDrive/R/R_Packages')"
      ],
      "metadata": {
        "id": "ebzUck8BuECF"
      },
      "execution_count": 8,
      "outputs": []
    },
    {
      "cell_type": "code",
      "source": [
        "%%R\n",
        "library(tidymodels)\n",
        "library(Metrics)"
      ],
      "metadata": {
        "id": "TpHwhjXwuHOu",
        "outputId": "dd0bc954-071e-4a82-ad5e-527a4a809490",
        "colab": {
          "base_uri": "https://localhost:8080/"
        }
      },
      "execution_count": 9,
      "outputs": [
        {
          "output_type": "stream",
          "name": "stderr",
          "text": [
            "WARNING:rpy2.rinterface_lib.callbacks:R[write to console]: ── Attaching packages ────────────────────────────────────── tidymodels 1.1.0 ──\n",
            "\n",
            "WARNING:rpy2.rinterface_lib.callbacks:R[write to console]: ✔ broom        1.0.5     ✔ recipes      1.0.6\n",
            "✔ dials        1.2.0     ✔ rsample      1.1.1\n",
            "✔ dplyr        1.1.2     ✔ tibble       3.2.1\n",
            "✔ ggplot2      3.4.2     ✔ tidyr        1.3.0\n",
            "✔ infer        1.0.4     ✔ tune         1.1.1\n",
            "✔ modeldata    1.1.0     ✔ workflows    1.1.3\n",
            "✔ parsnip      1.1.0     ✔ workflowsets 1.0.1\n",
            "✔ purrr        1.0.1     ✔ yardstick    1.2.0\n",
            "\n",
            "WARNING:rpy2.rinterface_lib.callbacks:R[write to console]: ── Conflicts ───────────────────────────────────────── tidymodels_conflicts() ──\n",
            "✖ yardstick::accuracy()  masks Metrics::accuracy()\n",
            "✖ purrr::discard()       masks scales::discard()\n",
            "✖ dplyr::filter()        masks stats::filter()\n",
            "✖ dplyr::lag()           masks stats::lag()\n",
            "✖ yardstick::mae()       masks Metrics::mae()\n",
            "✖ yardstick::mape()      masks Metrics::mape()\n",
            "✖ yardstick::mase()      masks Metrics::mase()\n",
            "✖ yardstick::precision() masks Metrics::precision()\n",
            "✖ yardstick::recall()    masks Metrics::recall()\n",
            "✖ yardstick::rmse()      masks Metrics::rmse()\n",
            "✖ yardstick::smape()     masks Metrics::smape()\n",
            "✖ recipes::step()        masks stats::step()\n",
            "• Use suppressPackageStartupMessages() to eliminate package startup messages\n",
            "\n"
          ]
        }
      ]
    }
  ]
}