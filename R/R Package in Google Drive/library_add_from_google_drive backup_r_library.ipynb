{
  "nbformat": 4,
  "nbformat_minor": 0,
  "metadata": {
    "colab": {
      "provenance": [],
      "include_colab_link": true
    },
    "kernelspec": {
      "name": "python3",
      "display_name": "Python 3"
    },
    "language_info": {
      "name": "python"
    }
  },
  "cells": [
    {
      "cell_type": "markdown",
      "metadata": {
        "id": "view-in-github",
        "colab_type": "text"
      },
      "source": [
        "<a href=\"https://colab.research.google.com/github/shiful133/r-colab/blob/main/library_add_from_google_drive%20/backup_r_library.ipynb\" target=\"_parent\"><img src=\"https://colab.research.google.com/assets/colab-badge.svg\" alt=\"Open In Colab\"/></a>"
      ]
    },
    {
      "cell_type": "code",
      "metadata": {
        "id": "T006oN5fuHvh"
      },
      "source": [
        "%load_ext rpy2.ipython"
      ],
      "execution_count": null,
      "outputs": []
    },
    {
      "cell_type": "code",
      "metadata": {
        "id": "42kfxkiutlp1"
      },
      "source": [
        "%%R\n",
        ".libPaths(\"library\")\n",
        "install.packages('tidymodels')"
      ],
      "execution_count": null,
      "outputs": []
    },
    {
      "cell_type": "code",
      "metadata": {
        "id": "zfBMqeaFv07o"
      },
      "source": [
        "%%R\n",
        ".libPaths(\"library\")"
      ],
      "execution_count": null,
      "outputs": []
    },
    {
      "cell_type": "code",
      "metadata": {
        "colab": {
          "base_uri": "https://localhost:8080/"
        },
        "id": "Rhi03xc7z8pv",
        "outputId": "da31aec7-f150-42a4-97b7-6ed0303034cd"
      },
      "source": [
        "%%R\n",
        ".libPaths()"
      ],
      "execution_count": null,
      "outputs": [
        {
          "output_type": "stream",
          "name": "stdout",
          "text": [
            "[1] \"/usr/local/lib/R/site-library\" \"/usr/lib/R/site-library\"      \n",
            "[3] \"/usr/lib/R/library\"           \n"
          ]
        }
      ]
    },
    {
      "cell_type": "code",
      "metadata": {
        "colab": {
          "base_uri": "https://localhost:8080/"
        },
        "id": "QB-adwFhz07V",
        "outputId": "40568da1-cf90-4d64-ea60-a0bdc6e3264d"
      },
      "source": [
        "%ls \"/usr/local/lib/R/site-library\""
      ],
      "execution_count": null,
      "outputs": [
        {
          "output_type": "stream",
          "name": "stdout",
          "text": [
            "\u001b[0m\u001b[01;34mconflicted\u001b[0m/    \u001b[01;34mglobals\u001b[0m/    \u001b[01;34mIRkernel\u001b[0m/   \u001b[01;34mparallelly\u001b[0m/  \u001b[01;34mprogressr\u001b[0m/   \u001b[01;34mtimeDate\u001b[0m/\n",
            "\u001b[01;34mdials\u001b[0m/         \u001b[01;34mgower\u001b[0m/      \u001b[01;34miterators\u001b[0m/  \u001b[01;34mparsnip\u001b[0m/     \u001b[01;34mrecipes\u001b[0m/     \u001b[01;34mtune\u001b[0m/\n",
            "\u001b[01;34mDiceDesign\u001b[0m/    \u001b[01;34mGPfit\u001b[0m/      \u001b[01;34mlava\u001b[0m/       \u001b[01;34mpatchwork\u001b[0m/   \u001b[01;34mrepr\u001b[0m/        \u001b[01;34mwarp\u001b[0m/\n",
            "\u001b[01;34mforeach\u001b[0m/       \u001b[01;34mhardhat\u001b[0m/    \u001b[01;34mlhs\u001b[0m/        \u001b[01;34mpbdZMQ\u001b[0m/      \u001b[01;34mrsample\u001b[0m/     \u001b[01;34mworkflows\u001b[0m/\n",
            "\u001b[01;34mfurrr\u001b[0m/         \u001b[01;34minfer\u001b[0m/      \u001b[01;34mlistenv\u001b[0m/    \u001b[01;34mplyr\u001b[0m/        \u001b[01;34mslider\u001b[0m/      \u001b[01;34mworkflowsets\u001b[0m/\n",
            "\u001b[01;34mfuture\u001b[0m/        \u001b[01;34mipred\u001b[0m/      \u001b[01;34mmodeldata\u001b[0m/  \u001b[01;34mpROC\u001b[0m/        \u001b[01;34mSQUAREM\u001b[0m/     \u001b[01;34myardstick\u001b[0m/\n",
            "\u001b[01;34mfuture.apply\u001b[0m/  \u001b[01;34mIRdisplay\u001b[0m/  \u001b[01;34mnumDeriv\u001b[0m/   \u001b[01;34mprodlim\u001b[0m/     \u001b[01;34mtidymodels\u001b[0m/\n"
          ]
        }
      ]
    },
    {
      "cell_type": "code",
      "metadata": {
        "id": "728ENcfC0J5k"
      },
      "source": [
        "%%R\n",
        "tar(\"library.tar.gz\", \"/usr/local/lib/R/site-library\")"
      ],
      "execution_count": null,
      "outputs": []
    },
    {
      "cell_type": "code",
      "metadata": {
        "id": "CyJuS2JvzghB"
      },
      "source": [
        "%%R\n",
        "library(tidymodels)"
      ],
      "execution_count": null,
      "outputs": []
    },
    {
      "cell_type": "code",
      "metadata": {
        "id": "LpkWIEqlyrgW"
      },
      "source": [
        "# %ls \"/usr/lib/R/library\"\n",
        "# %ls \"/usr/lib/R/site-library\"\n",
        "# %ls \"/usr/local/lib/R/site-library\""
      ],
      "execution_count": null,
      "outputs": []
    },
    {
      "cell_type": "code",
      "metadata": {
        "colab": {
          "base_uri": "https://localhost:8080/"
        },
        "id": "XM5AG-gUwEip",
        "outputId": "36a6aef3-83b3-45e3-ca04-ad0b5ae6dd6f"
      },
      "source": [
        "from google.colab import drive\n",
        "drive.mount('/content/drive')"
      ],
      "execution_count": null,
      "outputs": [
        {
          "output_type": "stream",
          "name": "stdout",
          "text": [
            "Mounted at /content/drive\n"
          ]
        }
      ]
    },
    {
      "cell_type": "code",
      "metadata": {
        "colab": {
          "base_uri": "https://localhost:8080/"
        },
        "id": "jbo2VOnawE8E",
        "outputId": "b9f2a8c7-3d4c-49d1-aed3-3879ed20745c"
      },
      "source": [
        "%ls drive/MyDrive/src"
      ],
      "execution_count": null,
      "outputs": [
        {
          "output_type": "stream",
          "name": "stdout",
          "text": [
            "chinese_roberta_wwm_large_ext_L-24_H-1024_A-16.zip  library.tar.gz\n"
          ]
        }
      ]
    },
    {
      "cell_type": "code",
      "metadata": {
        "id": "iDSOVE95wUfL"
      },
      "source": [
        "%cp library.tar.gz drive/MyDrive/src/"
      ],
      "execution_count": null,
      "outputs": []
    },
    {
      "cell_type": "code",
      "metadata": {
        "colab": {
          "base_uri": "https://localhost:8080/"
        },
        "id": "jCJ8gid90WD_",
        "outputId": "9d434e89-e97d-49f8-a281-deb2fa518f66"
      },
      "source": [
        "!du -sh library.tar.gz"
      ],
      "execution_count": null,
      "outputs": [
        {
          "output_type": "stream",
          "name": "stdout",
          "text": [
            "51M\tlibrary.tar.gz\n"
          ]
        }
      ]
    }
  ]
}
